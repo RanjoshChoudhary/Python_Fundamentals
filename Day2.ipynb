{
 "cells": [
  {
   "cell_type": "code",
   "execution_count": 1,
   "id": "aad13833",
   "metadata": {},
   "outputs": [],
   "source": [
    "# Day 11 - 12 - 13 - 14 - 15"
   ]
  },
  {
   "cell_type": "markdown",
   "id": "70d8b9d1",
   "metadata": {},
   "source": [
    "## Day 11\n",
    "#### Strings\n",
    " A string is essentially a sequence or array of textual data. Strings are used when working with Unicode characters."
   ]
  },
  {
   "cell_type": "code",
   "execution_count": 2,
   "id": "d4bd5770",
   "metadata": {},
   "outputs": [],
   "source": [
    "x='Hello'\n",
    "y=\"Hello\""
   ]
  },
  {
   "cell_type": "markdown",
   "id": "dc8a03e1",
   "metadata": {},
   "source": [
    "String Slicing"
   ]
  },
  {
   "cell_type": "code",
   "execution_count": 8,
   "id": "beabd79a",
   "metadata": {},
   "outputs": [
    {
     "data": {
      "text/plain": [
       "'Hel'"
      ]
     },
     "execution_count": 8,
     "metadata": {},
     "output_type": "execute_result"
    }
   ],
   "source": [
    "# In Python, string is like an array of characters. We can access parts of string by using its index which starts from 0.\n",
    "# Square brackets can be used to access elements of the string.\n",
    "x[0:3]\n",
    "# including 0 excluding 3"
   ]
  },
  {
   "cell_type": "code",
   "execution_count": null,
   "id": "1d7b5ea4",
   "metadata": {},
   "outputs": [],
   "source": []
  },
  {
   "cell_type": "code",
   "execution_count": 9,
   "id": "60ccaf21",
   "metadata": {},
   "outputs": [
    {
     "name": "stdout",
     "output_type": "stream",
     "text": [
      "Hello, Harry\n"
     ]
    }
   ],
   "source": [
    "name = \"Harry\"\n",
    "print(\"Hello, \" + name)"
   ]
  },
  {
   "cell_type": "markdown",
   "id": "1d673234",
   "metadata": {},
   "source": [
    "#### Multi line String\n",
    "If our string has multiple lines, we can create them like this:"
   ]
  },
  {
   "cell_type": "code",
   "execution_count": 10,
   "id": "5fd74a77",
   "metadata": {},
   "outputs": [
    {
     "name": "stdout",
     "output_type": "stream",
     "text": [
      "Lorem ipsum dolor sit amet,\n",
      "consectetur adipiscing elit,\n",
      "sed do eiusmod tempor incididunt\n",
      "ut labore et dolore magna aliqua.\n"
     ]
    }
   ],
   "source": [
    "a = \"\"\"Lorem ipsum dolor sit amet,\n",
    "consectetur adipiscing elit,\n",
    "sed do eiusmod tempor incididunt\n",
    "ut labore et dolore magna aliqua.\"\"\"\n",
    "print(a)"
   ]
  },
  {
   "cell_type": "code",
   "execution_count": 11,
   "id": "4217b1b0",
   "metadata": {},
   "outputs": [
    {
     "name": "stdout",
     "output_type": "stream",
     "text": [
      "H\n",
      "a\n",
      "r\n",
      "r\n",
      "y\n"
     ]
    }
   ],
   "source": [
    "# Looping through string\n",
    "# Strings are arrays and arrays are iterable. Thus we can loop through strings.\n",
    "for character in name:\n",
    "    print(character)"
   ]
  },
  {
   "cell_type": "code",
   "execution_count": 12,
   "id": "d4808b1c",
   "metadata": {},
   "outputs": [
    {
     "data": {
      "text/plain": [
       "5"
      ]
     },
     "execution_count": 12,
     "metadata": {},
     "output_type": "execute_result"
    }
   ],
   "source": [
    "# We can find the length of a string using len() function.\n",
    "len(name)"
   ]
  },
  {
   "cell_type": "markdown",
   "id": "442d22b6",
   "metadata": {},
   "source": [
    "### Day 13 [All methods of Strings Discussed]\n",
    "str.upper(), str.lower(), str.strip(), str.startswith(), str.endswith(), str.replace(), str.split(), str.find(), str.index(), str.count(), str.isalpha(), str.isdigit(), str.islower(), str.isupper(), str.capitalize(), str.title()"
   ]
  },
  {
   "cell_type": "code",
   "execution_count": 13,
   "id": "1fb07e16",
   "metadata": {},
   "outputs": [
    {
     "data": {
      "text/plain": [
       "'Hello'"
      ]
     },
     "execution_count": 13,
     "metadata": {},
     "output_type": "execute_result"
    }
   ],
   "source": [
    "x"
   ]
  },
  {
   "cell_type": "code",
   "execution_count": 14,
   "id": "42a8413c",
   "metadata": {},
   "outputs": [
    {
     "name": "stdout",
     "output_type": "stream",
     "text": [
      "HELLO\n"
     ]
    }
   ],
   "source": [
    "# Python provides a set of built-in methods that we can use to alter and modify the strings.\n",
    "# The upper() method converts a string to upper case.\n",
    "print(x.upper())"
   ]
  },
  {
   "cell_type": "code",
   "execution_count": 15,
   "id": "e4a16c24",
   "metadata": {},
   "outputs": [
    {
     "data": {
      "text/plain": [
       "' My dog '"
      ]
     },
     "execution_count": 15,
     "metadata": {},
     "output_type": "execute_result"
    }
   ],
   "source": [
    "# The strip() method removes any white spaces before and after the string.\n",
    "z=\" My dog \"\n",
    "z"
   ]
  },
  {
   "cell_type": "code",
   "execution_count": 16,
   "id": "8b25515c",
   "metadata": {},
   "outputs": [
    {
     "name": "stdout",
     "output_type": "stream",
     "text": [
      "My dog\n"
     ]
    }
   ],
   "source": [
    "print(z.strip())"
   ]
  },
  {
   "cell_type": "code",
   "execution_count": 17,
   "id": "385e037a",
   "metadata": {},
   "outputs": [
    {
     "name": "stdout",
     "output_type": "stream",
     "text": [
      "Silver Moon\n"
     ]
    }
   ],
   "source": [
    "# The replace() method replaces all occurences of a string with another string.\n",
    "str2 = \"Silver Spoon\"\n",
    "print(str2.replace(\"Sp\", \"M\"))"
   ]
  },
  {
   "cell_type": "code",
   "execution_count": 18,
   "id": "de3bbc0d",
   "metadata": {},
   "outputs": [
    {
     "name": "stdout",
     "output_type": "stream",
     "text": [
      "['Silver', 'Spoon']\n"
     ]
    }
   ],
   "source": [
    "# The split() method splits the given string at the specified instance and returns the separated strings as list items.\n",
    "str2 = \"Silver Spoon\"\n",
    "print(str2.split(\" \"))      #Splits the string at the whitespace \" \"."
   ]
  },
  {
   "cell_type": "markdown",
   "id": "a8b52875",
   "metadata": {},
   "source": [
    "### Day 14 If - Else Conditionals"
   ]
  },
  {
   "cell_type": "markdown",
   "id": "8acea72a",
   "metadata": {},
   "source": [
    "Sometimes the programmer needs to check the evaluation of certain expression(s), whether the expression(s) evaluate to True or False. If the expression evaluates to False, then the program execution follows a different path than it would have if the expression had evaluated to True.\n",
    "\n",
    "Based on this, the conditional statements are further classified into following types:\n",
    "\n",
    "if\n",
    "\n",
    "if-else\n",
    "\n",
    "if-else-elif\n",
    "\n",
    "nested if-else-elif."
   ]
  },
  {
   "cell_type": "code",
   "execution_count": 19,
   "id": "debe1697",
   "metadata": {},
   "outputs": [
    {
     "name": "stdout",
     "output_type": "stream",
     "text": [
      "Alexa, do not add Apples to the cart.\n"
     ]
    }
   ],
   "source": [
    "applePrice = 210\n",
    "budget = 200\n",
    "if (applePrice <= budget):\n",
    "    print(\"Alexa, add 1 kg Apples to the cart.\")\n",
    "else:\n",
    "    print(\"Alexa, do not add Apples to the cart.\")"
   ]
  },
  {
   "cell_type": "code",
   "execution_count": 23,
   "id": "318cd5a6",
   "metadata": {},
   "outputs": [
    {
     "name": "stdout",
     "output_type": "stream",
     "text": [
      "Enter your age: 23\n",
      "Your age is: 23\n",
      "You can drive\n",
      "Yes\n"
     ]
    }
   ],
   "source": [
    "a = int(input(\"Enter your age: \"))\n",
    "print(\"Your age is:\", a)\n",
    "if(a>18):\n",
    "  print(\"You can drive\")\n",
    "  print(\"Yes\")\n",
    "else:\n",
    "  print(\"You cannot drive\")\n",
    "  print(\"No\")"
   ]
  },
  {
   "cell_type": "code",
   "execution_count": 24,
   "id": "3f3b0790",
   "metadata": {},
   "outputs": [
    {
     "name": "stdout",
     "output_type": "stream",
     "text": [
      "Number is Zero.\n"
     ]
    }
   ],
   "source": [
    "num = 0\n",
    "if (num < 0):\n",
    "    print(\"Number is negative.\")\n",
    "elif (num == 0):\n",
    "    print(\"Number is Zero.\")\n",
    "else:\n",
    "    print(\"Number is positive.\")"
   ]
  },
  {
   "cell_type": "code",
   "execution_count": 25,
   "id": "a5946bf3",
   "metadata": {},
   "outputs": [
    {
     "name": "stdout",
     "output_type": "stream",
     "text": [
      "Number is between 11-20\n"
     ]
    }
   ],
   "source": [
    "# Nested if statements\n",
    "num = 18\n",
    "if (num < 0):\n",
    "    print(\"Number is negative.\")\n",
    "elif (num > 0):\n",
    "    if (num <= 10):\n",
    "        print(\"Number is between 1-10\")\n",
    "    elif (num > 10 and num <= 20):\n",
    "        print(\"Number is between 11-20\")\n",
    "    else:\n",
    "        print(\"Number is greater than 20\")\n",
    "else:\n",
    "    print(\"Number is zero\")"
   ]
  },
  {
   "cell_type": "markdown",
   "id": "ef8deb42",
   "metadata": {},
   "source": [
    "### Day 15 Exercise 2 \n",
    "Create a python program capable of greeting you with Good Morning, Good Afternoon and Good Evening. Your program should use time module to get the current hour. Here is a sample program and documentation link for you:\n",
    "\n",
    "[Link](https://docs.python.org/3/library/time.html#time.strftime)"
   ]
  },
  {
   "cell_type": "code",
   "execution_count": 26,
   "id": "8e096ef8",
   "metadata": {},
   "outputs": [
    {
     "name": "stdout",
     "output_type": "stream",
     "text": [
      "Good Evening!\n"
     ]
    }
   ],
   "source": [
    "import time\n",
    "\n",
    "def greet():\n",
    "    current_hour = int(time.strftime(\"%H\"))\n",
    "\n",
    "    if 5 <= current_hour < 12:\n",
    "        print(\"Good Morning!\")\n",
    "    elif 12 <= current_hour < 17:\n",
    "        print(\"Good Afternoon!\")\n",
    "    else:\n",
    "        print(\"Good Evening!\")\n",
    "\n",
    "greet()"
   ]
  }
 ],
 "metadata": {
  "kernelspec": {
   "display_name": "Python 3 (ipykernel)",
   "language": "python",
   "name": "python3"
  },
  "language_info": {
   "codemirror_mode": {
    "name": "ipython",
    "version": 3
   },
   "file_extension": ".py",
   "mimetype": "text/x-python",
   "name": "python",
   "nbconvert_exporter": "python",
   "pygments_lexer": "ipython3",
   "version": "3.9.18"
  }
 },
 "nbformat": 4,
 "nbformat_minor": 5
}
