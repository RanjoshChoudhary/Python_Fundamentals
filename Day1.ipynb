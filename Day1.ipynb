{
 "cells": [
  {
   "cell_type": "markdown",
   "id": "50aeef08",
   "metadata": {},
   "source": [
    "### Code with Harry - Python Course Day 1 to 10\n",
    "1- Comments, Escape Sequences and Print statement\n",
    "\n",
    "2- Variables and Data Types\n",
    "\n",
    "3- Calculator using Arithmetic operators in Python\n",
    "\n",
    "4- Explicit and Implicit Typecasting in Python\n",
    "\n",
    "5- Taking input into a variable from user"
   ]
  },
  {
   "cell_type": "code",
   "execution_count": 1,
   "id": "80c0d558",
   "metadata": {},
   "outputs": [
    {
     "name": "stdout",
     "output_type": "stream",
     "text": [
      "15\n",
      "My name is ranjosh 8\n"
     ]
    }
   ],
   "source": [
    "# Day 4\n",
    "# Print function\n",
    "print(5+10)\n",
    "\n",
    "# Printing multiple values\n",
    "print(\"My name is ranjosh\",8)"
   ]
  },
  {
   "cell_type": "code",
   "execution_count": 2,
   "id": "756e5c92",
   "metadata": {},
   "outputs": [
    {
     "name": "stdout",
     "output_type": "stream",
     "text": [
      "p is not greater than 5.\n"
     ]
    }
   ],
   "source": [
    "# Day 5 - Comments, Escape Sequences and Print statement\n",
    "# Sometimes we want to explain our code while coding and want python interpreter to not execute those lines\n",
    "# So when we see our code after months we know what's going on [ctrl + /]\n",
    "\n",
    "# Multiline Commenting\n",
    "\"\"\"This is an if-else statement.\n",
    "It will execute a block of code if a specified condition is true.\n",
    "If the condition is false then it will execute another block of code.\"\"\"\n",
    "p = 2\n",
    "if (p > 5):\n",
    "    print(\"p is greater than 5.\")\n",
    "else:\n",
    "    print(\"p is not greater than 5.\")\n"
   ]
  },
  {
   "cell_type": "code",
   "execution_count": 3,
   "id": "dd653ccc",
   "metadata": {},
   "outputs": [
    {
     "name": "stdout",
     "output_type": "stream",
     "text": [
      "This will \" execute\n",
      "Line 1\n",
      "Line 2\n"
     ]
    },
    {
     "data": {
      "text/plain": [
       "\"\\n1- object(s): Any object, and as many as you like. Will be converted to string before printed\\n2- sep='separator': Specify how to separate the objects, if there is more than one. Default is ' '\\n3- end='end': Specify what to print at the end. Default is '\\n' (line feed)\\n4- file: An object with a write method. Default is sys.stdout\\nParameters 2 to 4 are optional\\n\""
      ]
     },
     "execution_count": 3,
     "metadata": {},
     "output_type": "execute_result"
    }
   ],
   "source": [
    "# Escape Sequence Characters\n",
    "'''\n",
    "To insert characters that cannot be directly used in a string, we use an escape sequence character.\n",
    "An escape sequence character is a backslash \\ followed by the character you want to insert.\n",
    "\n",
    "An example of a character that cannot be directly used in a string is a double quote inside a string that is surrounded by \n",
    "double quotes\n",
    "'''\n",
    "# print(\"This doesnt \"execute\")\n",
    "print(\"This will \\\" execute\")\n",
    "# \\\" to avoid getting error\n",
    "\n",
    "# New line - backslash n\n",
    "print(\"Line 1\\nLine 2\")\n",
    "\n",
    "# More on Print function\n",
    "# print(object(s), sep=separator, end=end, file=file, flush=flush)\n",
    "\n",
    "'''\n",
    "1- object(s): Any object, and as many as you like. Will be converted to string before printed\n",
    "2- sep='separator': Specify how to separate the objects, if there is more than one. Default is ' '\n",
    "3- end='end': Specify what to print at the end. Default is '\\n' (line feed)\n",
    "4- file: An object with a write method. Default is sys.stdout\n",
    "Parameters 2 to 4 are optional\n",
    "'''"
   ]
  },
  {
   "cell_type": "code",
   "execution_count": 4,
   "id": "21784ee3",
   "metadata": {},
   "outputs": [
    {
     "name": "stdout",
     "output_type": "stream",
     "text": [
      "Hello+1+2+3+4\n"
     ]
    }
   ],
   "source": [
    "print(\"Hello\",1,2,3,4,sep=\"+\")"
   ]
  },
  {
   "cell_type": "code",
   "execution_count": 5,
   "id": "3a3fc5fa",
   "metadata": {},
   "outputs": [
    {
     "name": "stdout",
     "output_type": "stream",
     "text": [
      "Hello+1+2+3+405\n"
     ]
    }
   ],
   "source": [
    "print(\"Hello\",1,2,3,4,sep=\"+\",end=\"0\")\n",
    "print(5)\n",
    "# by default end has \\n."
   ]
  },
  {
   "cell_type": "markdown",
   "id": "c96b720e",
   "metadata": {},
   "source": [
    "## Day 6 - Variables and Data Types\n",
    "\n",
    "What is a variable?\n",
    "Variable is like a container that holds data. Very similar to how our containers in kitchen holds sugar, salt etc Creating a variable is like creating a placeholder in memory and assigning it some value."
   ]
  },
  {
   "cell_type": "code",
   "execution_count": 6,
   "id": "946b8c2e",
   "metadata": {},
   "outputs": [],
   "source": [
    "a = 1 # integer\n",
    "b = True # boolean\n",
    "c = \"Harry\" # string\n",
    "d = None # None type"
   ]
  },
  {
   "cell_type": "markdown",
   "id": "76219aac",
   "metadata": {},
   "source": [
    "What is a Data Type?\n",
    "\n",
    "Data type specifies the type of value a variable holds. This is required in programming to do various operations without causing an error.\n",
    "In python, we can print the type of any operator using type function:"
   ]
  },
  {
   "cell_type": "code",
   "execution_count": 7,
   "id": "5e4c2b20",
   "metadata": {},
   "outputs": [
    {
     "name": "stdout",
     "output_type": "stream",
     "text": [
      "<class 'int'>\n",
      "<class 'str'>\n"
     ]
    }
   ],
   "source": [
    "a = 1\n",
    "print(type(a))\n",
    "b = \"1\"\n",
    "print(type(b))"
   ]
  },
  {
   "cell_type": "markdown",
   "id": "e3849a36",
   "metadata": {},
   "source": [
    "1. Numeric data: int, float, complex\n",
    "\n",
    "int: 3, -8, 0\n",
    "\n",
    "float: 7.349, -9.0, 0.0000001\n",
    "\n",
    "complex: 6 + 2i\n",
    "\n",
    "2. Text data: str\n",
    "\n",
    "str: \"Hello World!!!\", \"Python Programming\"\n",
    "\n",
    "3. Boolean data:\n",
    "\n",
    "Boolean data consists of values True or False.\n",
    "\n",
    "4. Sequenced data: list, tuple\n",
    "\n",
    "list: A list is an ordered collection of data with elements separated by a comma and enclosed within square brackets. Lists are mutable and can be modified after creation."
   ]
  },
  {
   "cell_type": "code",
   "execution_count": 8,
   "id": "9f7e0803",
   "metadata": {},
   "outputs": [
    {
     "name": "stdout",
     "output_type": "stream",
     "text": [
      "[8, 2.3, [-4, 5], ['apple', 'banana']]\n"
     ]
    }
   ],
   "source": [
    "list1 = [8, 2.3, [-4, 5], [\"apple\", \"banana\"]]\n",
    "print(list1)"
   ]
  },
  {
   "cell_type": "code",
   "execution_count": 11,
   "id": "c1828f04",
   "metadata": {},
   "outputs": [
    {
     "data": {
      "text/plain": [
       "-4"
      ]
     },
     "execution_count": 11,
     "metadata": {},
     "output_type": "execute_result"
    }
   ],
   "source": [
    "list1[2][0]"
   ]
  },
  {
   "cell_type": "markdown",
   "id": "51ad5a41",
   "metadata": {},
   "source": [
    "**Tuple**: A tuple is an ordered collection of data with elements separated by a comma and enclosed within parentheses. Tuples are immutable and can not be modified after creation."
   ]
  },
  {
   "cell_type": "code",
   "execution_count": 12,
   "id": "471e0307",
   "metadata": {},
   "outputs": [
    {
     "name": "stdout",
     "output_type": "stream",
     "text": [
      "(('parrot', 'sparrow'), ('Lion', 'Tiger'))\n"
     ]
    }
   ],
   "source": [
    "tuple1 = ((\"parrot\", \"sparrow\"), (\"Lion\", \"Tiger\"))\n",
    "print(tuple1)"
   ]
  },
  {
   "cell_type": "markdown",
   "id": "03b64d99",
   "metadata": {},
   "source": [
    "**A dictionary** is an unordered collection of data containing a key:value pair. The key:value pairs are enclosed within curly brackets."
   ]
  },
  {
   "cell_type": "code",
   "execution_count": 13,
   "id": "cbcc4d5a",
   "metadata": {},
   "outputs": [
    {
     "name": "stdout",
     "output_type": "stream",
     "text": [
      "{'name': 'Sakshi', 'age': 20, 'canVote': True}\n"
     ]
    }
   ],
   "source": [
    "dict1 = {\"name\":\"Sakshi\", \"age\":20, \"canVote\":True}\n",
    "print(dict1)"
   ]
  },
  {
   "cell_type": "markdown",
   "id": "86f46dde",
   "metadata": {},
   "source": [
    "### Day 7 and 8 [Calculator using Python]"
   ]
  },
  {
   "cell_type": "markdown",
   "id": "26834984",
   "metadata": {},
   "source": [
    "Types of Operators-\n",
    "\n",
    "1- Arithmetic Operators:\n",
    "\n",
    "Used to perform mathematical operations like addition, subtraction, multiplication, division, modulus(remainder), exponentiation, and floor division(removes the decimals).\n",
    "Examples: +, -, *, /, %, **, //.\n",
    "\n",
    "2- Comparison (Relational) Operators:\n",
    "Used to compare values and determine the relationship between them.\n",
    "\n",
    "Examples: == (equal to), != (not equal to), > (greater than), < (less than), >= (greater than or equal to), <= (less than or equal to).\n",
    "\n",
    "3- Assignment Operators:\n",
    "\n",
    "Used to assign values to variables.\n",
    "Examples: =, +=, -=, *=, /=, %=, ** =, //=.\n",
    "\n",
    "4- Logical Operators:\n",
    "\n",
    "Used to combine conditional statements.\n",
    "Examples: and, or, not.\n",
    "\n",
    "5- Bitwise Operators:\n",
    "\n",
    "Used to perform operations on binary numbers.\n",
    "\n",
    "Examples: & (bitwise AND), | (bitwise OR), ^ (bitwise XOR), ~ (bitwise NOT), << (bitwise left shift), >> (bitwise right shift)."
   ]
  },
  {
   "cell_type": "markdown",
   "id": "eaa174b1",
   "metadata": {},
   "source": [
    "#### Exercise 1 - Create a Calculator\n",
    "Create a calculator capable of performing addition, subtraction, multiplication and division operations on two numbers. Your program should format the output in a readable manner!"
   ]
  },
  {
   "cell_type": "code",
   "execution_count": 26,
   "id": "4f7b6c2d",
   "metadata": {},
   "outputs": [
    {
     "name": "stdout",
     "output_type": "stream",
     "text": [
      "Enter x21\n",
      "Enter y21\n",
      "For the given 2 numbers :21.0 & 21.0\n",
      "Addition:  42.0\n",
      "subtraction:  0.0\n",
      "multiplication:  441.0\n",
      "division:  1.0\n"
     ]
    }
   ],
   "source": [
    "# My solution\n",
    "x=float(input(\"Enter x\"))\n",
    "y=float(input(\"Enter y\"))\n",
    "print(f\"For the given 2 numbers :{x} & {y}\")\n",
    "a=x+y\n",
    "print(\"Addition: \",a)\n",
    "b=x-y\n",
    "print(\"subtraction: \",b)\n",
    "c=x*y\n",
    "print(\"multiplication: \",c)\n",
    "d=x/y\n",
    "print(\"division: \",d)\n"
   ]
  },
  {
   "cell_type": "code",
   "execution_count": 23,
   "id": "891abcb5",
   "metadata": {},
   "outputs": [
    {
     "name": "stdout",
     "output_type": "stream",
     "text": [
      "Addition of 15 and 7 is 22\n",
      "Subtraction of 15 and 7 is 8\n",
      "Multiplication of 15 and 7 is 105\n",
      "Division of 15 and 7 is 2.142857142857143\n",
      "Modulus of 15 and 7 is 1\n",
      "Floor Division of 15 and 7 is 2\n"
     ]
    }
   ],
   "source": [
    "# Main sol\n",
    "n = 15\n",
    "m = 7\n",
    "ans1 = n+m\n",
    "print(\"Addition of\",n,\"and\",m,\"is\", ans1)\n",
    "ans2 = n-m\n",
    "print(\"Subtraction of\",n,\"and\",m,\"is\", ans2)\n",
    "ans3 = n*m\n",
    "print(\"Multiplication of\",n,\"and\",m,\"is\", ans3)\n",
    "ans4 = n/m\n",
    "print(\"Division of\",n,\"and\",m,\"is\", ans4)\n",
    "ans5 = n%m\n",
    "print(\"Modulus of\",n,\"and\",m,\"is\", ans5)\n",
    "ans6 = n//m\n",
    "print(\"Floor Division of\",n,\"and\",m,\"is\", ans6)"
   ]
  },
  {
   "cell_type": "markdown",
   "id": "2233a5e5",
   "metadata": {},
   "source": [
    "### Day 9 [Type casting]\n",
    "The conversion of one data type into the other data type is known as type casting in python or type conversion in python.\n",
    "\n",
    "Python supports a wide variety of functions or methods like: int(), float(), str(), ord(), hex(), oct(), tuple(), set(), list(), dict(), etc. for the type casting in python."
   ]
  },
  {
   "cell_type": "code",
   "execution_count": 27,
   "id": "8fafb0eb",
   "metadata": {},
   "outputs": [
    {
     "name": "stdout",
     "output_type": "stream",
     "text": [
      "<class 'str'>\n"
     ]
    }
   ],
   "source": [
    "x=\"27\"\n",
    "print(type(x))"
   ]
  },
  {
   "cell_type": "markdown",
   "id": "3ded15d0",
   "metadata": {},
   "source": [
    "**Explicit typecasting:**\n",
    "The conversion of one data type into another data type, done via developer or programmer's intervention or manually as per the requirement, is known as explicit type conversion.\n",
    "\n",
    "It can be achieved with the help of Python’s built-in type conversion functions such as int(), float(), hex(), oct(), str(), etc ."
   ]
  },
  {
   "cell_type": "code",
   "execution_count": 29,
   "id": "e9e5f56d",
   "metadata": {},
   "outputs": [
    {
     "name": "stdout",
     "output_type": "stream",
     "text": [
      "The Sum of both the numbers is:  22\n"
     ]
    }
   ],
   "source": [
    "string = \"15\"\n",
    "number = 7\n",
    "string_number = int(string) #throws an error if the string is not a valid integer\n",
    "sum= number + string_number\n",
    "print(\"The Sum of both the numbers is: \", sum)"
   ]
  },
  {
   "cell_type": "markdown",
   "id": "1e9018f8",
   "metadata": {},
   "source": [
    "**Implicit type casting:**\n",
    "\n",
    "Data types in Python do not have the same level i.e. ordering of data types is not the same in Python. Some of the data types have higher-order, and some have lower order. While performing any operations on variables with different data types in Python, one of the variable's data types will be changed to the higher data type. According to the level, one data type is converted into other by the Python interpreter itself (automatically). This is called, implicit typecasting in python.\n",
    "\n",
    "Python converts a smaller data type to a higher data type to prevent data loss."
   ]
  },
  {
   "cell_type": "code",
   "execution_count": 30,
   "id": "12ef5ce8",
   "metadata": {},
   "outputs": [
    {
     "name": "stdout",
     "output_type": "stream",
     "text": [
      "<class 'int'>\n",
      "<class 'float'>\n",
      "10.0\n",
      "<class 'float'>\n"
     ]
    }
   ],
   "source": [
    "# Python automatically converts\n",
    "# a to int\n",
    "a = 7\n",
    "print(type(a))\n",
    " \n",
    "# Python automatically converts b to float\n",
    "b = 3.0\n",
    "print(type(b))\n",
    " \n",
    "# Python automatically converts c to float as it is a float addition\n",
    "c = a + b\n",
    "print(c)\n",
    "print(type(c))"
   ]
  },
  {
   "cell_type": "markdown",
   "id": "9bbcae2c",
   "metadata": {},
   "source": [
    "## Day 10 - Taking User Input in python"
   ]
  },
  {
   "cell_type": "markdown",
   "id": "f2d90c5b",
   "metadata": {},
   "source": [
    "In python, we can take user input directly by using input() function.This input function gives a return value as string/character hence we have to pass that into a variable.\n",
    "\n",
    "But input function returns the value as string. Hence we have to typecast them whenever required to another datatype."
   ]
  },
  {
   "cell_type": "code",
   "execution_count": 31,
   "id": "ebf9d034",
   "metadata": {},
   "outputs": [
    {
     "name": "stdout",
     "output_type": "stream",
     "text": [
      "Enter a number: 23\n",
      "Enter another number: 23\n"
     ]
    },
    {
     "data": {
      "text/plain": [
       "'2323'"
      ]
     },
     "execution_count": 31,
     "metadata": {},
     "output_type": "execute_result"
    }
   ],
   "source": [
    "x=input(\"Enter a number: \")\n",
    "y=input(\"Enter another number: \")\n",
    "z=x+y\n",
    "z\n"
   ]
  },
  {
   "cell_type": "code",
   "execution_count": 32,
   "id": "33ab973d",
   "metadata": {},
   "outputs": [
    {
     "name": "stdout",
     "output_type": "stream",
     "text": [
      "Enter a number: 23\n",
      "Enter another number: 23\n"
     ]
    },
    {
     "data": {
      "text/plain": [
       "46"
      ]
     },
     "execution_count": 32,
     "metadata": {},
     "output_type": "execute_result"
    }
   ],
   "source": [
    "x=int(input(\"Enter a number: \"))\n",
    "y=int(input(\"Enter another number: \"))\n",
    "z=x+y\n",
    "z"
   ]
  },
  {
   "cell_type": "code",
   "execution_count": null,
   "id": "1fab144b",
   "metadata": {},
   "outputs": [],
   "source": []
  }
 ],
 "metadata": {
  "kernelspec": {
   "display_name": "Python 3 (ipykernel)",
   "language": "python",
   "name": "python3"
  },
  "language_info": {
   "codemirror_mode": {
    "name": "ipython",
    "version": 3
   },
   "file_extension": ".py",
   "mimetype": "text/x-python",
   "name": "python",
   "nbconvert_exporter": "python",
   "pygments_lexer": "ipython3",
   "version": "3.9.18"
  }
 },
 "nbformat": 4,
 "nbformat_minor": 5
}
